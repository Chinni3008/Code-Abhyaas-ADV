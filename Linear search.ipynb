{
 "cells": [
  {
   "cell_type": "code",
   "execution_count": 2,
   "id": "809177cf",
   "metadata": {},
   "outputs": [
    {
     "name": "stdout",
     "output_type": "stream",
     "text": [
      "No.of elements:5\n",
      "2\n",
      "3\n",
      "4\n",
      "1\n",
      "2\n",
      "Enter element to search:3\n",
      "Element found at index:  1\n"
     ]
    }
   ],
   "source": [
    "#Program for linear search\n",
    "def search(arr,n,key):\n",
    "    for i in range(0, n):  \n",
    "        if (arr[i] == key):  \n",
    "            return i  \n",
    "    return 0\n",
    "n=int(input(\"No.of elements:\"))\n",
    "arr=[]\n",
    "for i in range(n):\n",
    "    A=int(input())\n",
    "    arr.append(A)\n",
    "key=int(input(\"Enter element to search:\"))\n",
    "res =search(arr, n, key)  \n",
    "if res==0:  \n",
    "    print(\"Element not found\")  \n",
    "else:  \n",
    "    print(\"Element found at index: \", res)  "
   ]
  }
 ],
 "metadata": {
  "kernelspec": {
   "display_name": "Python 3 (ipykernel)",
   "language": "python",
   "name": "python3"
  },
  "language_info": {
   "codemirror_mode": {
    "name": "ipython",
    "version": 3
   },
   "file_extension": ".py",
   "mimetype": "text/x-python",
   "name": "python",
   "nbconvert_exporter": "python",
   "pygments_lexer": "ipython3",
   "version": "3.9.12"
  }
 },
 "nbformat": 4,
 "nbformat_minor": 5
}
