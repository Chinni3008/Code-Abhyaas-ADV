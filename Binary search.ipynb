{
 "cells": [
  {
   "cell_type": "code",
   "execution_count": 10,
   "id": "6e04ba44",
   "metadata": {},
   "outputs": [
    {
     "name": "stdout",
     "output_type": "stream",
     "text": [
      "No.of elements:4\n",
      "2\n",
      "3\n",
      "4\n",
      "5\n",
      "Enter element to search:6\n",
      "Element is not present\n"
     ]
    }
   ],
   "source": [
    "#Program for binary search\n",
    "def binary_search(arr, a, low, high):\n",
    "    while low <= high:\n",
    "        mid = low + (high - low)//2\n",
    "        if arr[mid] == a:\n",
    "            return mid\n",
    "        elif arr[mid] < a:\n",
    "            low = mid + 1\n",
    "        else:\n",
    "            high = mid - 1  \n",
    "    return 0    \n",
    "n=int(input(\"No.of elements:\"))\n",
    "arr=[]\n",
    "for i in range(n):\n",
    "    A=int(input())\n",
    "    arr.append(A)  \n",
    "key=int(input(\"Enter element to search:\"))\n",
    "res=binary_search(arr,key,0,len(arr)-1)\n",
    "if res!= 0:  \n",
    "    print(\"Element is present at index\"+str(res))  \n",
    "else:  \n",
    "    print(\"Element is not present\")"
   ]
  },
  {
   "cell_type": "code",
   "execution_count": null,
   "id": "bcde1b46",
   "metadata": {},
   "outputs": [],
   "source": []
  }
 ],
 "metadata": {
  "kernelspec": {
   "display_name": "Python 3 (ipykernel)",
   "language": "python",
   "name": "python3"
  },
  "language_info": {
   "codemirror_mode": {
    "name": "ipython",
    "version": 3
   },
   "file_extension": ".py",
   "mimetype": "text/x-python",
   "name": "python",
   "nbconvert_exporter": "python",
   "pygments_lexer": "ipython3",
   "version": "3.9.12"
  }
 },
 "nbformat": 4,
 "nbformat_minor": 5
}
