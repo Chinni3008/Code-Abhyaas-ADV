{
 "cells": [
  {
   "cell_type": "code",
   "execution_count": 5,
   "id": "05d3f694",
   "metadata": {},
   "outputs": [
    {
     "name": "stdout",
     "output_type": "stream",
     "text": [
      "No.of elements:4\n",
      "1\n",
      "5\n",
      "2\n",
      "3\n",
      "[1, 5, 2, 3]\n",
      "Second smallest element: [2]\n",
      "Second largest element: [3]\n"
     ]
    }
   ],
   "source": [
    "#Program to print second largest element and second smallest element in an array using sorting\n",
    "n=int(input(\"No.of elements:\"))\n",
    "arr=[]\n",
    "for i in range(n):\n",
    "    A=int(input())\n",
    "    arr.append(A)\n",
    "print(arr)\n",
    "arr.sort()\n",
    "print(\"Second smallest element:\",arr[1:2])\n",
    "print(\"Second largest element:\",arr[-2:-1])"
   ]
  },
  {
   "cell_type": "code",
   "execution_count": 20,
   "id": "dcd13cc8",
   "metadata": {},
   "outputs": [
    {
     "name": "stdout",
     "output_type": "stream",
     "text": [
      "No.of elements:4\n",
      "1\n",
      "5\n",
      "2\n",
      "3\n",
      "[1, 5, 2, 3]\n",
      "Second Smallest element is: 2\n",
      "Second Largest element is: 3\n",
      "None\n"
     ]
    }
   ],
   "source": [
    "#optimal solution\n",
    "def Range(arr):\n",
    "    max1,min1,max2,min2= -10000,10000,-10000,10000\n",
    "    for i in range(n):    \n",
    "        if arr[i] > max1:\n",
    "            max2 = max1\n",
    "            max1 = arr[i]\n",
    "        elif arr[i]!=max2 and max2 < arr[i]:\n",
    "            max2 = arr[i]\n",
    "        if arr[i] < min1:\n",
    "            min2 = min1\n",
    "            min1 = arr[i]\n",
    "        elif arr[i]!=min2 and min2 > arr[i]:\n",
    "            min2 = arr[i]\n",
    "    print(\"Second Smallest element is:\",min2)\n",
    "    print(\"Second Largest element is:\",max2)\n",
    "n=int(input(\"No.of elements:\"))\n",
    "arr=[]\n",
    "for i in range(n):\n",
    "    A=int(input())\n",
    "    arr.append(A)\n",
    "print(arr)\n",
    "print(Range(arr))"
   ]
  },
  {
   "cell_type": "code",
   "execution_count": null,
   "id": "e2c7715e",
   "metadata": {},
   "outputs": [],
   "source": []
  }
 ],
 "metadata": {
  "kernelspec": {
   "display_name": "Python 3 (ipykernel)",
   "language": "python",
   "name": "python3"
  },
  "language_info": {
   "codemirror_mode": {
    "name": "ipython",
    "version": 3
   },
   "file_extension": ".py",
   "mimetype": "text/x-python",
   "name": "python",
   "nbconvert_exporter": "python",
   "pygments_lexer": "ipython3",
   "version": "3.9.12"
  }
 },
 "nbformat": 4,
 "nbformat_minor": 5
}
