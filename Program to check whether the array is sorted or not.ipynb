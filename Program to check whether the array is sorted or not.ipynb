{
 "cells": [
  {
   "cell_type": "code",
   "execution_count": 5,
   "id": "a4f58f77",
   "metadata": {},
   "outputs": [
    {
     "name": "stdout",
     "output_type": "stream",
     "text": [
      "No.of elements:4\n",
      "12\n",
      "32\n",
      "43\n",
      "11\n",
      "[12, 32, 43, 11]\n",
      "The array is not sorted\n"
     ]
    }
   ],
   "source": [
    "#Program to check whether the array is sorted or not\n",
    "def is_sorted(arr):\n",
    "    for i in range(1, len(arr)):\n",
    "        if arr[i] < arr[i - 1]:\n",
    "            return False\n",
    "    return True\n",
    "n=int(input(\"No.of elements:\"))\n",
    "arr=[]\n",
    "for i in range(n):\n",
    "    A=int(input())\n",
    "    arr.append(A)\n",
    "print(arr)\n",
    "if is_sorted(arr):\n",
    "    print(\"The array is sorted\")\n",
    "else:\n",
    "    print(\"The array is not sorted\")"
   ]
  },
  {
   "cell_type": "code",
   "execution_count": null,
   "id": "4d74b881",
   "metadata": {},
   "outputs": [],
   "source": []
  }
 ],
 "metadata": {
  "kernelspec": {
   "display_name": "Python 3 (ipykernel)",
   "language": "python",
   "name": "python3"
  },
  "language_info": {
   "codemirror_mode": {
    "name": "ipython",
    "version": 3
   },
   "file_extension": ".py",
   "mimetype": "text/x-python",
   "name": "python",
   "nbconvert_exporter": "python",
   "pygments_lexer": "ipython3",
   "version": "3.9.12"
  }
 },
 "nbformat": 4,
 "nbformat_minor": 5
}
