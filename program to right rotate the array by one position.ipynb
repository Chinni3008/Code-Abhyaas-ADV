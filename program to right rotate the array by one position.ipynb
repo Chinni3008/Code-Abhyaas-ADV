{
 "cells": [
  {
   "cell_type": "code",
   "execution_count": 1,
   "id": "21e26792",
   "metadata": {},
   "outputs": [
    {
     "name": "stdout",
     "output_type": "stream",
     "text": [
      "No.of elements:4\n",
      "2\n",
      "3\n",
      "4\n",
      "1\n",
      "Original array: [2, 3, 4, 1]\n",
      "Array after Right Rotation: [1, 2, 3, 4]\n"
     ]
    }
   ],
   "source": [
    "#python program to right rotate the array by one position\n",
    "def right_rotate(arr):\n",
    "    n = len(arr)\n",
    "    temp= arr[n - 1]\n",
    "    for i in range(n - 1, 0, -1):\n",
    "        arr[i] = arr[i - 1]\n",
    "    arr[0] = temp\n",
    "n=int(input(\"No.of elements:\"))\n",
    "arr=[]\n",
    "for i in range(n):\n",
    "    A=int(input())\n",
    "    arr.append(A)\n",
    "print(\"Original array:\",arr)\n",
    "right_rotate(arr)\n",
    "print(\"Array after Right Rotation:\",arr)"
   ]
  },
  {
   "cell_type": "code",
   "execution_count": null,
   "id": "2e476ccc",
   "metadata": {},
   "outputs": [],
   "source": []
  }
 ],
 "metadata": {
  "kernelspec": {
   "display_name": "Python 3 (ipykernel)",
   "language": "python",
   "name": "python3"
  },
  "language_info": {
   "codemirror_mode": {
    "name": "ipython",
    "version": 3
   },
   "file_extension": ".py",
   "mimetype": "text/x-python",
   "name": "python",
   "nbconvert_exporter": "python",
   "pygments_lexer": "ipython3",
   "version": "3.9.12"
  }
 },
 "nbformat": 4,
 "nbformat_minor": 5
}
