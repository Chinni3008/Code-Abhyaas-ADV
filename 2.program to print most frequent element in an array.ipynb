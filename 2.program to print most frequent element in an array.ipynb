{
 "cells": [
  {
   "cell_type": "code",
   "execution_count": 13,
   "id": "7d6a8135",
   "metadata": {},
   "outputs": [
    {
     "name": "stdout",
     "output_type": "stream",
     "text": [
      "2\n"
     ]
    }
   ],
   "source": [
    "#2.program to print most frequent element in an array\n",
    "def mostfrequentelement(arr,n):\n",
    "    H={}\n",
    "    maxfreq=1\n",
    "    mostfreq=0\n",
    "    for i in range(n):\n",
    "        if arr[i] in H:\n",
    "            H[arr[i]]=H[arr[i]]+1\n",
    "            if maxfreq<H[arr[i]]:\n",
    "                maxfreq=H[arr[i]]\n",
    "                mostfreq=arr[i]\n",
    "            elif maxfreq==H[arr[i]]:\n",
    "                mostfreq=min(mostfreq,arr[i])\n",
    "        else:\n",
    "            H[arr[i]]=1\n",
    "    return mostfreq\n",
    "arr=[1,2,3,2,1,2,3,4,2,1]\n",
    "print(mostfrequentelement(arr,len(arr)))"
   ]
  }
 ],
 "metadata": {
  "kernelspec": {
   "display_name": "Python 3 (ipykernel)",
   "language": "python",
   "name": "python3"
  },
  "language_info": {
   "codemirror_mode": {
    "name": "ipython",
    "version": 3
   },
   "file_extension": ".py",
   "mimetype": "text/x-python",
   "name": "python",
   "nbconvert_exporter": "python",
   "pygments_lexer": "ipython3",
   "version": "3.9.12"
  }
 },
 "nbformat": 4,
 "nbformat_minor": 5
}
