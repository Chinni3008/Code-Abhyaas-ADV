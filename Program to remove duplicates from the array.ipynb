{
 "cells": [
  {
   "cell_type": "code",
   "execution_count": 11,
   "id": "2044b65d",
   "metadata": {},
   "outputs": [
    {
     "name": "stdout",
     "output_type": "stream",
     "text": [
      "No.of elements:5\n",
      "1\n",
      "2\n",
      "3\n",
      "2\n",
      "1\n",
      "Original array: [1, 2, 3, 2, 1]\n",
      "Array after removing duplicates: {1, 2, 3}\n"
     ]
    }
   ],
   "source": [
    "# Program to remove duplicates from the array using set() method\n",
    "n=int(input(\"No.of elements:\"))\n",
    "arr=[]\n",
    "for i in range(n):\n",
    "    A=int(input())\n",
    "    arr.append(A)\n",
    "print(\"Original array:\",arr)\n",
    "L=set(arr)\n",
    "print(\"Array after removing duplicates:\",L)"
   ]
  },
  {
   "cell_type": "code",
   "execution_count": 14,
   "id": "5b41b4ba",
   "metadata": {},
   "outputs": [
    {
     "name": "stdout",
     "output_type": "stream",
     "text": [
      "No.of elements:5\n",
      "1\n",
      "2\n",
      "3\n",
      "2\n",
      "1\n",
      "[1, 1, 2, 2, 3]\n",
      "1 2 3 "
     ]
    }
   ],
   "source": [
    "#Using two pointers\n",
    "def Remove(arr,n):\n",
    "    temp = list(range(n))\n",
    "    j = 0\n",
    "    for i in range(0, n-1):\n",
    "        if arr[i] != arr[i+1]:\n",
    "            temp[j] = arr[i]\n",
    "            j += 1\n",
    "    temp[j] = arr[n-1]\n",
    "    j += 1\n",
    "    \n",
    "    for i in range(0, j):\n",
    "        arr[i] = temp[i]\n",
    "    return j\n",
    "n=int(input(\"No.of elements:\"))\n",
    "arr=[]\n",
    "for i in range(n):\n",
    "    A=int(input())\n",
    "    arr.append(A)\n",
    "arr.sort()\n",
    "print(arr)\n",
    "n=Remove(arr,n)\n",
    "for i in range(n):\n",
    "    print (\"%d\"%(arr[i]), end = \" \")"
   ]
  },
  {
   "cell_type": "code",
   "execution_count": null,
   "id": "d15513c1",
   "metadata": {},
   "outputs": [],
   "source": []
  }
 ],
 "metadata": {
  "kernelspec": {
   "display_name": "Python 3 (ipykernel)",
   "language": "python",
   "name": "python3"
  },
  "language_info": {
   "codemirror_mode": {
    "name": "ipython",
    "version": 3
   },
   "file_extension": ".py",
   "mimetype": "text/x-python",
   "name": "python",
   "nbconvert_exporter": "python",
   "pygments_lexer": "ipython3",
   "version": "3.9.12"
  }
 },
 "nbformat": 4,
 "nbformat_minor": 5
}
