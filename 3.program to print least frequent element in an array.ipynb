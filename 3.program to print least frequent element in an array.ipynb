{
 "cells": [
  {
   "cell_type": "code",
   "execution_count": 1,
   "id": "a4544b0d",
   "metadata": {},
   "outputs": [
    {
     "name": "stdout",
     "output_type": "stream",
     "text": [
      "3\n"
     ]
    }
   ],
   "source": [
    "#3.Write a program to print least frequent element in an array\n",
    "def leastFrequent(arr, n):\n",
    "    H={}\n",
    "    for i in range(n):\n",
    "        if arr[i] in H.keys():\n",
    "            H[arr[i]] += 1\n",
    "        else:\n",
    "            H[arr[i]] = 1\n",
    "    min_count = n + 1\n",
    "    res = 0\n",
    "    for i in H:\n",
    "        if (min_count >= H[i]):\n",
    "            res = i\n",
    "            min_count = H[i]\n",
    "            \n",
    "    return res\n",
    "arr = [1, 3, 2, 1, 2, 2, 3, 1]\n",
    "print(leastFrequent(arr, len(arr)))"
   ]
  },
  {
   "cell_type": "code",
   "execution_count": null,
   "id": "e632b08b",
   "metadata": {},
   "outputs": [],
   "source": []
  }
 ],
 "metadata": {
  "kernelspec": {
   "display_name": "Python 3 (ipykernel)",
   "language": "python",
   "name": "python3"
  },
  "language_info": {
   "codemirror_mode": {
    "name": "ipython",
    "version": 3
   },
   "file_extension": ".py",
   "mimetype": "text/x-python",
   "name": "python",
   "nbconvert_exporter": "python",
   "pygments_lexer": "ipython3",
   "version": "3.9.12"
  }
 },
 "nbformat": 4,
 "nbformat_minor": 5
}
