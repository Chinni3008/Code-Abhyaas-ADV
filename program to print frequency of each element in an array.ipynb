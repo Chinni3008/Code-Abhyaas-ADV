{
 "cells": [
  {
   "cell_type": "code",
   "execution_count": 13,
   "id": "3e8a9754",
   "metadata": {},
   "outputs": [
    {
     "name": "stdout",
     "output_type": "stream",
     "text": [
      "1: 2\n",
      "2: 3\n",
      "3: 2\n",
      "4: 2\n"
     ]
    }
   ],
   "source": [
    "#1.Write a program to print frequency of each element in an array\n",
    "arr = [1,2,3,2,1,4,3,2,4]\n",
    "elements_count = {}\n",
    "for element in arr:\n",
    "    if element in elements_count:\n",
    "        elements_count[element] += 1\n",
    "    else:\n",
    "        elements_count[element] = 1\n",
    "for key, value in elements_count.items():\n",
    "    print(f\"{key}: {value}\")"
   ]
  }
 ],
 "metadata": {
  "kernelspec": {
   "display_name": "Python 3 (ipykernel)",
   "language": "python",
   "name": "python3"
  },
  "language_info": {
   "codemirror_mode": {
    "name": "ipython",
    "version": 3
   },
   "file_extension": ".py",
   "mimetype": "text/x-python",
   "name": "python",
   "nbconvert_exporter": "python",
   "pygments_lexer": "ipython3",
   "version": "3.9.12"
  }
 },
 "nbformat": 4,
 "nbformat_minor": 5
}
