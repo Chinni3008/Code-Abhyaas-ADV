{
 "cells": [
  {
   "cell_type": "code",
   "execution_count": 1,
   "id": "2663771a",
   "metadata": {},
   "outputs": [
    {
     "name": "stdout",
     "output_type": "stream",
     "text": [
      "No.of elements:4\n",
      "1\n",
      "2\n",
      "3\n",
      "4\n",
      "No.of elements:4\n",
      "3\n",
      "4\n",
      "5\n",
      "6\n",
      "Union of the two arrays: [1, 2, 3, 4, 5, 6]\n"
     ]
    }
   ],
   "source": [
    "#program to find union of two arrays\n",
    "def find_union(arr1, arr2):\n",
    "    set1 = set(arr1)\n",
    "    set2 = set(arr2)\n",
    "    union_set = set1.union(set2)\n",
    "    union_list = list(union_set)\n",
    "    return union_list\n",
    "n=int(input(\"No.of elements:\"))\n",
    "arr1=[]\n",
    "for i in range(n):\n",
    "    A=int(input())\n",
    "    arr1.append(A)\n",
    "n=int(input(\"No.of elements:\"))\n",
    "arr2=[]\n",
    "for i in range(n):\n",
    "    A=int(input())\n",
    "    arr2.append(A)\n",
    "union_result = find_union(arr1, arr2)\n",
    "print(\"Union of the two arrays:\", union_result)"
   ]
  },
  {
   "cell_type": "code",
   "execution_count": null,
   "id": "269c39b8",
   "metadata": {},
   "outputs": [],
   "source": []
  }
 ],
 "metadata": {
  "kernelspec": {
   "display_name": "Python 3 (ipykernel)",
   "language": "python",
   "name": "python3"
  },
  "language_info": {
   "codemirror_mode": {
    "name": "ipython",
    "version": 3
   },
   "file_extension": ".py",
   "mimetype": "text/x-python",
   "name": "python",
   "nbconvert_exporter": "python",
   "pygments_lexer": "ipython3",
   "version": "3.9.12"
  }
 },
 "nbformat": 4,
 "nbformat_minor": 5
}
